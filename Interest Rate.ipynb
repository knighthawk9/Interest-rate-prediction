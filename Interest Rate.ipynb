{
 "cells": [
  {
   "cell_type": "code",
   "execution_count": 308,
   "metadata": {
    "collapsed": false
   },
   "outputs": [],
   "source": [
    "%matplotlib inline\n",
    "\n",
    "import pandas as pd\n",
    "import numpy as np\n",
    "from sklearn.ensemble import RandomForestClassifier\n",
    "from sklearn.svm import SVC, LinearSVC\n",
    "\n",
    "df=pd.read_csv(\"/resources/data/Interest Rate Prediction/train.csv\")\n",
    "df_test=pd.read_csv(\"/resources/data/Interest Rate Prediction/test.csv\")"
   ]
  },
  {
   "cell_type": "code",
   "execution_count": 309,
   "metadata": {
    "collapsed": false
   },
   "outputs": [
    {
     "data": {
      "text/html": [
       "<div>\n",
       "<table border=\"1\" class=\"dataframe\">\n",
       "  <thead>\n",
       "    <tr style=\"text-align: right;\">\n",
       "      <th></th>\n",
       "      <th>Loan_ID</th>\n",
       "      <th>Loan_Amount_Requested</th>\n",
       "      <th>Loan_Grade</th>\n",
       "      <th>Length_Employed</th>\n",
       "      <th>Home_Owner</th>\n",
       "      <th>Annual_Income</th>\n",
       "      <th>Income_Verified</th>\n",
       "      <th>Purpose_Of_Loan</th>\n",
       "      <th>Debt_To_Income</th>\n",
       "      <th>Inquiries_Last_6Mo</th>\n",
       "      <th>Months_Since_Deliquency</th>\n",
       "      <th>Number_Open_Accounts</th>\n",
       "      <th>Total_Accounts</th>\n",
       "      <th>Area_Type</th>\n",
       "      <th>Gender</th>\n",
       "      <th>Interest_Rate</th>\n",
       "    </tr>\n",
       "  </thead>\n",
       "  <tbody>\n",
       "    <tr>\n",
       "      <th>0</th>\n",
       "      <td>10000001</td>\n",
       "      <td>7,000</td>\n",
       "      <td>A</td>\n",
       "      <td>&lt; 1 year</td>\n",
       "      <td>Rent</td>\n",
       "      <td>68000.0</td>\n",
       "      <td>not verified</td>\n",
       "      <td>car</td>\n",
       "      <td>18.37</td>\n",
       "      <td>0</td>\n",
       "      <td>NaN</td>\n",
       "      <td>9</td>\n",
       "      <td>14</td>\n",
       "      <td>B</td>\n",
       "      <td>Female</td>\n",
       "      <td>1</td>\n",
       "    </tr>\n",
       "    <tr>\n",
       "      <th>1</th>\n",
       "      <td>10000002</td>\n",
       "      <td>30,000</td>\n",
       "      <td>A</td>\n",
       "      <td>4 years</td>\n",
       "      <td>Mortgage</td>\n",
       "      <td>NaN</td>\n",
       "      <td>VERIFIED - income</td>\n",
       "      <td>debt_consolidation</td>\n",
       "      <td>14.93</td>\n",
       "      <td>0</td>\n",
       "      <td>17.0</td>\n",
       "      <td>12</td>\n",
       "      <td>24</td>\n",
       "      <td>A</td>\n",
       "      <td>Female</td>\n",
       "      <td>3</td>\n",
       "    </tr>\n",
       "    <tr>\n",
       "      <th>2</th>\n",
       "      <td>10000003</td>\n",
       "      <td>24,725</td>\n",
       "      <td>D</td>\n",
       "      <td>7 years</td>\n",
       "      <td>Mortgage</td>\n",
       "      <td>75566.4</td>\n",
       "      <td>VERIFIED - income source</td>\n",
       "      <td>debt_consolidation</td>\n",
       "      <td>15.88</td>\n",
       "      <td>0</td>\n",
       "      <td>NaN</td>\n",
       "      <td>12</td>\n",
       "      <td>16</td>\n",
       "      <td>B</td>\n",
       "      <td>Male</td>\n",
       "      <td>3</td>\n",
       "    </tr>\n",
       "    <tr>\n",
       "      <th>3</th>\n",
       "      <td>10000004</td>\n",
       "      <td>16,000</td>\n",
       "      <td>D</td>\n",
       "      <td>&lt; 1 year</td>\n",
       "      <td>NaN</td>\n",
       "      <td>56160.0</td>\n",
       "      <td>VERIFIED - income source</td>\n",
       "      <td>debt_consolidation</td>\n",
       "      <td>14.34</td>\n",
       "      <td>3</td>\n",
       "      <td>NaN</td>\n",
       "      <td>16</td>\n",
       "      <td>22</td>\n",
       "      <td>A</td>\n",
       "      <td>Male</td>\n",
       "      <td>3</td>\n",
       "    </tr>\n",
       "    <tr>\n",
       "      <th>4</th>\n",
       "      <td>10000005</td>\n",
       "      <td>17,000</td>\n",
       "      <td>A</td>\n",
       "      <td>8 years</td>\n",
       "      <td>Own</td>\n",
       "      <td>96000.0</td>\n",
       "      <td>VERIFIED - income source</td>\n",
       "      <td>debt_consolidation</td>\n",
       "      <td>22.17</td>\n",
       "      <td>1</td>\n",
       "      <td>NaN</td>\n",
       "      <td>19</td>\n",
       "      <td>30</td>\n",
       "      <td>B</td>\n",
       "      <td>Female</td>\n",
       "      <td>1</td>\n",
       "    </tr>\n",
       "  </tbody>\n",
       "</table>\n",
       "</div>"
      ],
      "text/plain": [
       "    Loan_ID Loan_Amount_Requested Loan_Grade Length_Employed Home_Owner  \\\n",
       "0  10000001                 7,000          A        < 1 year       Rent   \n",
       "1  10000002                30,000          A         4 years   Mortgage   \n",
       "2  10000003                24,725          D         7 years   Mortgage   \n",
       "3  10000004                16,000          D        < 1 year        NaN   \n",
       "4  10000005                17,000          A         8 years        Own   \n",
       "\n",
       "   Annual_Income           Income_Verified     Purpose_Of_Loan  \\\n",
       "0        68000.0              not verified                 car   \n",
       "1            NaN         VERIFIED - income  debt_consolidation   \n",
       "2        75566.4  VERIFIED - income source  debt_consolidation   \n",
       "3        56160.0  VERIFIED - income source  debt_consolidation   \n",
       "4        96000.0  VERIFIED - income source  debt_consolidation   \n",
       "\n",
       "   Debt_To_Income  Inquiries_Last_6Mo  Months_Since_Deliquency  \\\n",
       "0           18.37                   0                      NaN   \n",
       "1           14.93                   0                     17.0   \n",
       "2           15.88                   0                      NaN   \n",
       "3           14.34                   3                      NaN   \n",
       "4           22.17                   1                      NaN   \n",
       "\n",
       "   Number_Open_Accounts  Total_Accounts Area_Type  Gender  Interest_Rate  \n",
       "0                     9              14         B  Female              1  \n",
       "1                    12              24         A  Female              3  \n",
       "2                    12              16         B    Male              3  \n",
       "3                    16              22         A    Male              3  \n",
       "4                    19              30         B  Female              1  "
      ]
     },
     "execution_count": 309,
     "metadata": {},
     "output_type": "execute_result"
    }
   ],
   "source": [
    "df.head()"
   ]
  },
  {
   "cell_type": "code",
   "execution_count": 310,
   "metadata": {
    "collapsed": false
   },
   "outputs": [
    {
     "name": "stderr",
     "output_type": "stream",
     "text": [
      "/usr/local/lib/python3.5/dist-packages/numpy/lib/function_base.py:3834: RuntimeWarning: Invalid value encountered in percentile\n",
      "  RuntimeWarning)\n"
     ]
    },
    {
     "data": {
      "text/html": [
       "<div>\n",
       "<table border=\"1\" class=\"dataframe\">\n",
       "  <thead>\n",
       "    <tr style=\"text-align: right;\">\n",
       "      <th></th>\n",
       "      <th>Loan_ID</th>\n",
       "      <th>Annual_Income</th>\n",
       "      <th>Debt_To_Income</th>\n",
       "      <th>Inquiries_Last_6Mo</th>\n",
       "      <th>Months_Since_Deliquency</th>\n",
       "      <th>Number_Open_Accounts</th>\n",
       "      <th>Total_Accounts</th>\n",
       "      <th>Interest_Rate</th>\n",
       "    </tr>\n",
       "  </thead>\n",
       "  <tbody>\n",
       "    <tr>\n",
       "      <th>count</th>\n",
       "      <td>1.643090e+05</td>\n",
       "      <td>1.392070e+05</td>\n",
       "      <td>164309.000000</td>\n",
       "      <td>164309.000000</td>\n",
       "      <td>75930.000000</td>\n",
       "      <td>164309.000000</td>\n",
       "      <td>164309.000000</td>\n",
       "      <td>164309.000000</td>\n",
       "    </tr>\n",
       "    <tr>\n",
       "      <th>mean</th>\n",
       "      <td>1.008216e+07</td>\n",
       "      <td>7.333116e+04</td>\n",
       "      <td>17.207189</td>\n",
       "      <td>0.781698</td>\n",
       "      <td>34.229356</td>\n",
       "      <td>11.193818</td>\n",
       "      <td>25.067665</td>\n",
       "      <td>2.158951</td>\n",
       "    </tr>\n",
       "    <tr>\n",
       "      <th>std</th>\n",
       "      <td>4.743207e+04</td>\n",
       "      <td>6.037750e+04</td>\n",
       "      <td>7.845083</td>\n",
       "      <td>1.034747</td>\n",
       "      <td>21.761180</td>\n",
       "      <td>4.991813</td>\n",
       "      <td>11.583067</td>\n",
       "      <td>0.738364</td>\n",
       "    </tr>\n",
       "    <tr>\n",
       "      <th>min</th>\n",
       "      <td>1.000000e+07</td>\n",
       "      <td>4.000000e+03</td>\n",
       "      <td>0.000000</td>\n",
       "      <td>0.000000</td>\n",
       "      <td>0.000000</td>\n",
       "      <td>0.000000</td>\n",
       "      <td>2.000000</td>\n",
       "      <td>1.000000</td>\n",
       "    </tr>\n",
       "    <tr>\n",
       "      <th>25%</th>\n",
       "      <td>1.004108e+07</td>\n",
       "      <td>NaN</td>\n",
       "      <td>11.370000</td>\n",
       "      <td>0.000000</td>\n",
       "      <td>NaN</td>\n",
       "      <td>8.000000</td>\n",
       "      <td>17.000000</td>\n",
       "      <td>2.000000</td>\n",
       "    </tr>\n",
       "    <tr>\n",
       "      <th>50%</th>\n",
       "      <td>1.008216e+07</td>\n",
       "      <td>NaN</td>\n",
       "      <td>16.840000</td>\n",
       "      <td>0.000000</td>\n",
       "      <td>NaN</td>\n",
       "      <td>10.000000</td>\n",
       "      <td>23.000000</td>\n",
       "      <td>2.000000</td>\n",
       "    </tr>\n",
       "    <tr>\n",
       "      <th>75%</th>\n",
       "      <td>1.012323e+07</td>\n",
       "      <td>NaN</td>\n",
       "      <td>22.780000</td>\n",
       "      <td>1.000000</td>\n",
       "      <td>NaN</td>\n",
       "      <td>14.000000</td>\n",
       "      <td>32.000000</td>\n",
       "      <td>3.000000</td>\n",
       "    </tr>\n",
       "    <tr>\n",
       "      <th>max</th>\n",
       "      <td>1.016431e+07</td>\n",
       "      <td>7.500000e+06</td>\n",
       "      <td>39.990000</td>\n",
       "      <td>8.000000</td>\n",
       "      <td>180.000000</td>\n",
       "      <td>76.000000</td>\n",
       "      <td>156.000000</td>\n",
       "      <td>3.000000</td>\n",
       "    </tr>\n",
       "  </tbody>\n",
       "</table>\n",
       "</div>"
      ],
      "text/plain": [
       "            Loan_ID  Annual_Income  Debt_To_Income  Inquiries_Last_6Mo  \\\n",
       "count  1.643090e+05   1.392070e+05   164309.000000       164309.000000   \n",
       "mean   1.008216e+07   7.333116e+04       17.207189            0.781698   \n",
       "std    4.743207e+04   6.037750e+04        7.845083            1.034747   \n",
       "min    1.000000e+07   4.000000e+03        0.000000            0.000000   \n",
       "25%    1.004108e+07            NaN       11.370000            0.000000   \n",
       "50%    1.008216e+07            NaN       16.840000            0.000000   \n",
       "75%    1.012323e+07            NaN       22.780000            1.000000   \n",
       "max    1.016431e+07   7.500000e+06       39.990000            8.000000   \n",
       "\n",
       "       Months_Since_Deliquency  Number_Open_Accounts  Total_Accounts  \\\n",
       "count             75930.000000         164309.000000   164309.000000   \n",
       "mean                 34.229356             11.193818       25.067665   \n",
       "std                  21.761180              4.991813       11.583067   \n",
       "min                   0.000000              0.000000        2.000000   \n",
       "25%                        NaN              8.000000       17.000000   \n",
       "50%                        NaN             10.000000       23.000000   \n",
       "75%                        NaN             14.000000       32.000000   \n",
       "max                 180.000000             76.000000      156.000000   \n",
       "\n",
       "       Interest_Rate  \n",
       "count  164309.000000  \n",
       "mean        2.158951  \n",
       "std         0.738364  \n",
       "min         1.000000  \n",
       "25%         2.000000  \n",
       "50%         2.000000  \n",
       "75%         3.000000  \n",
       "max         3.000000  "
      ]
     },
     "execution_count": 310,
     "metadata": {},
     "output_type": "execute_result"
    }
   ],
   "source": [
    "df.describe()"
   ]
  },
  {
   "cell_type": "code",
   "execution_count": 356,
   "metadata": {
    "collapsed": false
   },
   "outputs": [
    {
     "data": {
      "text/html": [
       "<div>\n",
       "<table border=\"1\" class=\"dataframe\">\n",
       "  <thead>\n",
       "    <tr style=\"text-align: right;\">\n",
       "      <th></th>\n",
       "      <th>Loan_ID</th>\n",
       "      <th>Loan_Amount_Requested</th>\n",
       "      <th>Annual_Income</th>\n",
       "      <th>Debt_To_Income</th>\n",
       "      <th>Inquiries_Last_6Mo</th>\n",
       "      <th>Number_Open_Accounts</th>\n",
       "      <th>Total_Accounts</th>\n",
       "    </tr>\n",
       "  </thead>\n",
       "  <tbody>\n",
       "    <tr>\n",
       "      <th>count</th>\n",
       "      <td>1.095410e+05</td>\n",
       "      <td>109541.000000</td>\n",
       "      <td>1.095410e+05</td>\n",
       "      <td>109541.000000</td>\n",
       "      <td>109541.000000</td>\n",
       "      <td>109541.000000</td>\n",
       "      <td>109541.000000</td>\n",
       "    </tr>\n",
       "    <tr>\n",
       "      <th>mean</th>\n",
       "      <td>1.021908e+07</td>\n",
       "      <td>14358.475137</td>\n",
       "      <td>7.346161e+04</td>\n",
       "      <td>17.228969</td>\n",
       "      <td>0.788810</td>\n",
       "      <td>11.174337</td>\n",
       "      <td>25.068440</td>\n",
       "    </tr>\n",
       "    <tr>\n",
       "      <th>std</th>\n",
       "      <td>3.162191e+04</td>\n",
       "      <td>8299.811736</td>\n",
       "      <td>5.116734e+04</td>\n",
       "      <td>7.847310</td>\n",
       "      <td>1.039903</td>\n",
       "      <td>4.946314</td>\n",
       "      <td>11.599639</td>\n",
       "    </tr>\n",
       "    <tr>\n",
       "      <th>min</th>\n",
       "      <td>1.016431e+07</td>\n",
       "      <td>500.000000</td>\n",
       "      <td>3.000000e+03</td>\n",
       "      <td>0.000000</td>\n",
       "      <td>0.000000</td>\n",
       "      <td>0.000000</td>\n",
       "      <td>2.000000</td>\n",
       "    </tr>\n",
       "    <tr>\n",
       "      <th>25%</th>\n",
       "      <td>1.019170e+07</td>\n",
       "      <td>8000.000000</td>\n",
       "      <td>4.867100e+04</td>\n",
       "      <td>11.350000</td>\n",
       "      <td>0.000000</td>\n",
       "      <td>8.000000</td>\n",
       "      <td>17.000000</td>\n",
       "    </tr>\n",
       "    <tr>\n",
       "      <th>50%</th>\n",
       "      <td>1.021908e+07</td>\n",
       "      <td>12000.000000</td>\n",
       "      <td>7.000000e+04</td>\n",
       "      <td>16.860000</td>\n",
       "      <td>0.000000</td>\n",
       "      <td>10.000000</td>\n",
       "      <td>24.000000</td>\n",
       "    </tr>\n",
       "    <tr>\n",
       "      <th>75%</th>\n",
       "      <td>1.024646e+07</td>\n",
       "      <td>20000.000000</td>\n",
       "      <td>8.200000e+04</td>\n",
       "      <td>22.780000</td>\n",
       "      <td>1.000000</td>\n",
       "      <td>14.000000</td>\n",
       "      <td>32.000000</td>\n",
       "    </tr>\n",
       "    <tr>\n",
       "      <th>max</th>\n",
       "      <td>1.027385e+07</td>\n",
       "      <td>35000.000000</td>\n",
       "      <td>7.446395e+06</td>\n",
       "      <td>39.990000</td>\n",
       "      <td>8.000000</td>\n",
       "      <td>84.000000</td>\n",
       "      <td>124.000000</td>\n",
       "    </tr>\n",
       "  </tbody>\n",
       "</table>\n",
       "</div>"
      ],
      "text/plain": [
       "            Loan_ID  Loan_Amount_Requested  Annual_Income  Debt_To_Income  \\\n",
       "count  1.095410e+05          109541.000000   1.095410e+05   109541.000000   \n",
       "mean   1.021908e+07           14358.475137   7.346161e+04       17.228969   \n",
       "std    3.162191e+04            8299.811736   5.116734e+04        7.847310   \n",
       "min    1.016431e+07             500.000000   3.000000e+03        0.000000   \n",
       "25%    1.019170e+07            8000.000000   4.867100e+04       11.350000   \n",
       "50%    1.021908e+07           12000.000000   7.000000e+04       16.860000   \n",
       "75%    1.024646e+07           20000.000000   8.200000e+04       22.780000   \n",
       "max    1.027385e+07           35000.000000   7.446395e+06       39.990000   \n",
       "\n",
       "       Inquiries_Last_6Mo  Number_Open_Accounts  Total_Accounts  \n",
       "count       109541.000000         109541.000000   109541.000000  \n",
       "mean             0.788810             11.174337       25.068440  \n",
       "std              1.039903              4.946314       11.599639  \n",
       "min              0.000000              0.000000        2.000000  \n",
       "25%              0.000000              8.000000       17.000000  \n",
       "50%              0.000000             10.000000       24.000000  \n",
       "75%              1.000000             14.000000       32.000000  \n",
       "max              8.000000             84.000000      124.000000  "
      ]
     },
     "execution_count": 356,
     "metadata": {},
     "output_type": "execute_result"
    }
   ],
   "source": [
    "df_test.describe()"
   ]
  },
  {
   "cell_type": "code",
   "execution_count": 311,
   "metadata": {
    "collapsed": false
   },
   "outputs": [
    {
     "data": {
      "text/plain": [
       "Loan_ID                        0\n",
       "Loan_Amount_Requested          0\n",
       "Loan_Grade                 25053\n",
       "Length_Employed             7371\n",
       "Home_Owner                 25349\n",
       "Annual_Income              25102\n",
       "Income_Verified                0\n",
       "Purpose_Of_Loan                0\n",
       "Debt_To_Income                 0\n",
       "Inquiries_Last_6Mo             0\n",
       "Months_Since_Deliquency    88379\n",
       "Number_Open_Accounts           0\n",
       "Total_Accounts                 0\n",
       "Area_Type                      0\n",
       "Gender                         0\n",
       "Interest_Rate                  0\n",
       "dtype: int64"
      ]
     },
     "execution_count": 311,
     "metadata": {},
     "output_type": "execute_result"
    }
   ],
   "source": [
    "df.apply(lambda x: sum(x.isnull()),axis=0)"
   ]
  },
  {
   "cell_type": "code",
   "execution_count": 312,
   "metadata": {
    "collapsed": false
   },
   "outputs": [
    {
     "data": {
      "text/plain": [
       "Loan_ID                        0\n",
       "Loan_Amount_Requested          0\n",
       "Loan_Grade                 16792\n",
       "Length_Employed             4936\n",
       "Home_Owner                 16711\n",
       "Annual_Income              16898\n",
       "Income_Verified                0\n",
       "Purpose_Of_Loan                0\n",
       "Debt_To_Income                 0\n",
       "Inquiries_Last_6Mo             0\n",
       "Months_Since_Deliquency    58859\n",
       "Number_Open_Accounts           0\n",
       "Total_Accounts                 0\n",
       "Area_Type                      0\n",
       "Gender                         0\n",
       "dtype: int64"
      ]
     },
     "execution_count": 312,
     "metadata": {},
     "output_type": "execute_result"
    }
   ],
   "source": [
    "df_test.apply(lambda x: sum(x.isnull()),axis=0)"
   ]
  },
  {
   "cell_type": "code",
   "execution_count": 313,
   "metadata": {
    "collapsed": false
   },
   "outputs": [
    {
     "data": {
      "text/plain": [
       "B    38540\n",
       "C    35098\n",
       "A    26887\n",
       "D    24045\n",
       "E    14686\n",
       "Name: Loan_Grade, dtype: int64"
      ]
     },
     "execution_count": 313,
     "metadata": {},
     "output_type": "execute_result"
    }
   ],
   "source": [
    "df['Loan_Grade'].value_counts()"
   ]
  },
  {
   "cell_type": "code",
   "execution_count": 314,
   "metadata": {
    "collapsed": false
   },
   "outputs": [
    {
     "data": {
      "text/plain": [
       "B    25775\n",
       "C    23400\n",
       "A    17849\n",
       "D    15897\n",
       "E     9828\n",
       "Name: Loan_Grade, dtype: int64"
      ]
     },
     "execution_count": 314,
     "metadata": {},
     "output_type": "execute_result"
    }
   ],
   "source": [
    "df_test['Loan_Grade'].value_counts()"
   ]
  },
  {
   "cell_type": "code",
   "execution_count": 315,
   "metadata": {
    "collapsed": false
   },
   "outputs": [
    {
     "data": {
      "text/plain": [
       "10+ years    52915\n",
       "2 years      14620\n",
       "3 years      12974\n",
       "< 1 year     12805\n",
       "5 years      10814\n",
       "1 year       10422\n",
       "4 years       9784\n",
       "7 years       9308\n",
       "6 years       9094\n",
       "8 years       7917\n",
       "9 years       6285\n",
       "Name: Length_Employed, dtype: int64"
      ]
     },
     "execution_count": 315,
     "metadata": {},
     "output_type": "execute_result"
    }
   ],
   "source": [
    "df['Length_Employed'].value_counts()"
   ]
  },
  {
   "cell_type": "code",
   "execution_count": 316,
   "metadata": {
    "collapsed": false
   },
   "outputs": [
    {
     "data": {
      "text/plain": [
       "10+ years    35413\n",
       "2 years       9800\n",
       "3 years       8504\n",
       "< 1 year      8328\n",
       "5 years       7228\n",
       "1 year        6914\n",
       "4 years       6609\n",
       "6 years       6257\n",
       "7 years       6136\n",
       "8 years       5198\n",
       "9 years       4218\n",
       "Name: Length_Employed, dtype: int64"
      ]
     },
     "execution_count": 316,
     "metadata": {},
     "output_type": "execute_result"
    }
   ],
   "source": [
    "df_test['Length_Employed'].value_counts()"
   ]
  },
  {
   "cell_type": "code",
   "execution_count": 317,
   "metadata": {
    "collapsed": false
   },
   "outputs": [
    {
     "data": {
      "text/plain": [
       "Mortgage    70345\n",
       "Rent        56031\n",
       "Own         12525\n",
       "Other          49\n",
       "None           10\n",
       "Name: Home_Owner, dtype: int64"
      ]
     },
     "execution_count": 317,
     "metadata": {},
     "output_type": "execute_result"
    }
   ],
   "source": [
    "df['Home_Owner'].value_counts()"
   ]
  },
  {
   "cell_type": "code",
   "execution_count": 318,
   "metadata": {
    "collapsed": false
   },
   "outputs": [
    {
     "data": {
      "text/plain": [
       "Mortgage    46925\n",
       "Rent        37511\n",
       "Own          8354\n",
       "Other          30\n",
       "None           10\n",
       "Name: Home_Owner, dtype: int64"
      ]
     },
     "execution_count": 318,
     "metadata": {},
     "output_type": "execute_result"
    }
   ],
   "source": [
    "df_test['Home_Owner'].value_counts()"
   ]
  },
  {
   "cell_type": "code",
   "execution_count": 319,
   "metadata": {
    "collapsed": false
   },
   "outputs": [
    {
     "data": {
      "text/plain": [
       "60000.00     5462\n",
       "50000.00     4783\n",
       "65000.00     4012\n",
       "40000.00     3856\n",
       "70000.00     3667\n",
       "45000.00     3614\n",
       "75000.00     3434\n",
       "80000.00     3429\n",
       "55000.00     3320\n",
       "90000.00     2637\n",
       "100000.00    2618\n",
       "85000.00     2377\n",
       "35000.00     2350\n",
       "30000.00     2248\n",
       "120000.00    1981\n",
       "42000.00     1905\n",
       "52000.00     1861\n",
       "48000.00     1786\n",
       "110000.00    1581\n",
       "72000.00     1552\n",
       "95000.00     1411\n",
       "36000.00     1215\n",
       "150000.00    1191\n",
       "62000.00     1173\n",
       "38000.00     1165\n",
       "54000.00     1069\n",
       "32000.00     1055\n",
       "58000.00     1047\n",
       "125000.00    1013\n",
       "56000.00     1007\n",
       "             ... \n",
       "63624.00        1\n",
       "111020.00       1\n",
       "63599.00        1\n",
       "63576.00        1\n",
       "36628.80        1\n",
       "63574.00        1\n",
       "111045.00       1\n",
       "63565.00        1\n",
       "63552.00        1\n",
       "111113.60       1\n",
       "63655.00        1\n",
       "63670.00        1\n",
       "63819.00        1\n",
       "63672.00        1\n",
       "63814.40        1\n",
       "110900.00       1\n",
       "63790.00        1\n",
       "110970.00       1\n",
       "110999.00       1\n",
       "63760.00        1\n",
       "63755.00        1\n",
       "63749.28        1\n",
       "63748.00        1\n",
       "63745.00        1\n",
       "63732.00        1\n",
       "111016.00       1\n",
       "111018.00       1\n",
       "63684.00        1\n",
       "63681.35        1\n",
       "60050.00        1\n",
       "Name: Annual_Income, dtype: int64"
      ]
     },
     "execution_count": 319,
     "metadata": {},
     "output_type": "execute_result"
    }
   ],
   "source": [
    "df['Annual_Income'].value_counts()"
   ]
  },
  {
   "cell_type": "code",
   "execution_count": 320,
   "metadata": {
    "collapsed": false
   },
   "outputs": [
    {
     "data": {
      "text/plain": [
       "60000.00     3513\n",
       "50000.00     3179\n",
       "65000.00     2619\n",
       "40000.00     2530\n",
       "70000.00     2479\n",
       "45000.00     2397\n",
       "80000.00     2322\n",
       "55000.00     2202\n",
       "75000.00     2199\n",
       "90000.00     1773\n",
       "100000.00    1695\n",
       "85000.00     1619\n",
       "35000.00     1562\n",
       "30000.00     1463\n",
       "120000.00    1270\n",
       "42000.00     1264\n",
       "48000.00     1195\n",
       "52000.00     1188\n",
       "110000.00    1143\n",
       "95000.00      984\n",
       "72000.00      980\n",
       "36000.00      897\n",
       "38000.00      806\n",
       "62000.00      795\n",
       "150000.00     752\n",
       "32000.00      741\n",
       "68000.00      711\n",
       "56000.00      709\n",
       "54000.00      694\n",
       "58000.00      671\n",
       "             ... \n",
       "66516.00        1\n",
       "66798.00        1\n",
       "66540.72        1\n",
       "66552.00        1\n",
       "66577.00        1\n",
       "66590.00        1\n",
       "66607.00        1\n",
       "66617.00        1\n",
       "66622.00        1\n",
       "66630.00        1\n",
       "66640.00        1\n",
       "66664.00        1\n",
       "66665.64        1\n",
       "66670.00        1\n",
       "66681.00        1\n",
       "66689.00        1\n",
       "66690.00        1\n",
       "66700.00        1\n",
       "66720.00        1\n",
       "66749.00        1\n",
       "66755.00        1\n",
       "66775.17        1\n",
       "66779.00        1\n",
       "66780.00        1\n",
       "460000.00       1\n",
       "66785.00        1\n",
       "66791.00        1\n",
       "66796.88        1\n",
       "66797.00        1\n",
       "131143.00       1\n",
       "Name: Annual_Income, dtype: int64"
      ]
     },
     "execution_count": 320,
     "metadata": {},
     "output_type": "execute_result"
    }
   ],
   "source": [
    "df_test['Annual_Income'].value_counts()"
   ]
  },
  {
   "cell_type": "code",
   "execution_count": 321,
   "metadata": {
    "collapsed": false
   },
   "outputs": [
    {
     "data": {
      "text/plain": [
       "9.0      1518\n",
       "10.0     1510\n",
       "14.0     1487\n",
       "12.0     1484\n",
       "8.0      1474\n",
       "6.0      1440\n",
       "13.0     1436\n",
       "15.0     1433\n",
       "7.0      1416\n",
       "18.0     1390\n",
       "16.0     1360\n",
       "20.0     1333\n",
       "11.0     1327\n",
       "19.0     1325\n",
       "17.0     1316\n",
       "21.0     1297\n",
       "27.0     1255\n",
       "23.0     1224\n",
       "26.0     1189\n",
       "25.0     1189\n",
       "22.0     1184\n",
       "33.0     1156\n",
       "31.0     1148\n",
       "28.0     1147\n",
       "29.0     1127\n",
       "24.0     1125\n",
       "30.0     1114\n",
       "36.0     1104\n",
       "5.0      1099\n",
       "35.0     1083\n",
       "         ... \n",
       "106.0       3\n",
       "99.0        2\n",
       "114.0       2\n",
       "105.0       2\n",
       "102.0       2\n",
       "101.0       2\n",
       "94.0        2\n",
       "116.0       2\n",
       "135.0       2\n",
       "93.0        2\n",
       "92.0        2\n",
       "90.0        2\n",
       "110.0       2\n",
       "131.0       1\n",
       "130.0       1\n",
       "170.0       1\n",
       "139.0       1\n",
       "141.0       1\n",
       "127.0       1\n",
       "148.0       1\n",
       "129.0       1\n",
       "103.0       1\n",
       "122.0       1\n",
       "121.0       1\n",
       "119.0       1\n",
       "111.0       1\n",
       "107.0       1\n",
       "98.0        1\n",
       "95.0        1\n",
       "180.0       1\n",
       "Name: Months_Since_Deliquency, dtype: int64"
      ]
     },
     "execution_count": 321,
     "metadata": {},
     "output_type": "execute_result"
    }
   ],
   "source": [
    "df['Months_Since_Deliquency'].value_counts()"
   ]
  },
  {
   "cell_type": "code",
   "execution_count": 322,
   "metadata": {
    "collapsed": false
   },
   "outputs": [
    {
     "data": {
      "text/plain": [
       "9.0      1067\n",
       "13.0     1060\n",
       "8.0      1041\n",
       "12.0      989\n",
       "7.0       953\n",
       "10.0      953\n",
       "14.0      950\n",
       "19.0      944\n",
       "18.0      942\n",
       "6.0       938\n",
       "15.0      936\n",
       "11.0      930\n",
       "17.0      926\n",
       "16.0      873\n",
       "20.0      864\n",
       "22.0      830\n",
       "24.0      820\n",
       "26.0      815\n",
       "27.0      812\n",
       "23.0      806\n",
       "28.0      804\n",
       "21.0      802\n",
       "25.0      787\n",
       "5.0       762\n",
       "29.0      761\n",
       "34.0      755\n",
       "30.0      742\n",
       "35.0      735\n",
       "31.0      732\n",
       "32.0      731\n",
       "         ... \n",
       "88.0        4\n",
       "96.0        4\n",
       "95.0        4\n",
       "90.0        4\n",
       "92.0        4\n",
       "86.0        4\n",
       "91.0        3\n",
       "101.0       2\n",
       "87.0        2\n",
       "85.0        2\n",
       "89.0        2\n",
       "126.0       1\n",
       "130.0       1\n",
       "131.0       1\n",
       "143.0       1\n",
       "133.0       1\n",
       "135.0       1\n",
       "140.0       1\n",
       "122.0       1\n",
       "124.0       1\n",
       "97.0        1\n",
       "118.0       1\n",
       "115.0       1\n",
       "109.0       1\n",
       "106.0       1\n",
       "103.0       1\n",
       "99.0        1\n",
       "94.0        1\n",
       "93.0        1\n",
       "149.0       1\n",
       "Name: Months_Since_Deliquency, dtype: int64"
      ]
     },
     "execution_count": 322,
     "metadata": {},
     "output_type": "execute_result"
    }
   ],
   "source": [
    "df_test['Months_Since_Deliquency'].value_counts()"
   ]
  },
  {
   "cell_type": "code",
   "execution_count": 323,
   "metadata": {
    "collapsed": false
   },
   "outputs": [],
   "source": [
    "df['Length_Employed'].fillna('10+ years ',inplace=True)\n",
    "df['Home_Owner'].fillna('Mortgage',inplace=True)\n",
    "df['Annual_Income'].fillna(df['Annual_Income'].mean(),inplace=True)\n",
    "df['Months_Since_Deliquency'].fillna('0',inplace=True)\n",
    "\n",
    "\n",
    "df_test['Length_Employed'].fillna('10+ years ',inplace=True)\n",
    "df_test['Home_Owner'].fillna('Mortgage',inplace=True)\n",
    "df_test['Annual_Income'].fillna(df['Annual_Income'].mean(),inplace=True)\n",
    "df_test['Months_Since_Deliquency'].fillna('0',inplace=True)"
   ]
  },
  {
   "cell_type": "code",
   "execution_count": 324,
   "metadata": {
    "collapsed": false
   },
   "outputs": [],
   "source": [
    "df['Loan_Amount_Requested'] = df['Loan_Amount_Requested'].str.replace(',', '')\n",
    "df['Loan_Amount_Requested'] = df['Loan_Amount_Requested'].astype(int)\n",
    "\n",
    "df_test['Loan_Amount_Requested'] = df_test['Loan_Amount_Requested'].str.replace(',', '')\n",
    "df_test['Loan_Amount_Requested'] = df_test['Loan_Amount_Requested'].astype(int)"
   ]
  },
  {
   "cell_type": "code",
   "execution_count": 325,
   "metadata": {
    "collapsed": false
   },
   "outputs": [
    {
     "data": {
      "text/html": [
       "<div>\n",
       "<table border=\"1\" class=\"dataframe\">\n",
       "  <thead>\n",
       "    <tr style=\"text-align: right;\">\n",
       "      <th></th>\n",
       "      <th>Loan_ID</th>\n",
       "      <th>Loan_Amount_Requested</th>\n",
       "      <th>Annual_Income</th>\n",
       "      <th>Debt_To_Income</th>\n",
       "      <th>Inquiries_Last_6Mo</th>\n",
       "      <th>Number_Open_Accounts</th>\n",
       "      <th>Total_Accounts</th>\n",
       "      <th>Interest_Rate</th>\n",
       "    </tr>\n",
       "  </thead>\n",
       "  <tbody>\n",
       "    <tr>\n",
       "      <th>count</th>\n",
       "      <td>1.392560e+05</td>\n",
       "      <td>139256.000000</td>\n",
       "      <td>1.392560e+05</td>\n",
       "      <td>139256.000000</td>\n",
       "      <td>139256.000000</td>\n",
       "      <td>139256.000000</td>\n",
       "      <td>139256.000000</td>\n",
       "      <td>139256.000000</td>\n",
       "    </tr>\n",
       "    <tr>\n",
       "      <th>mean</th>\n",
       "      <td>1.008210e+07</td>\n",
       "      <td>14339.856451</td>\n",
       "      <td>7.325795e+04</td>\n",
       "      <td>17.204112</td>\n",
       "      <td>0.781216</td>\n",
       "      <td>11.194527</td>\n",
       "      <td>25.065290</td>\n",
       "      <td>2.158772</td>\n",
       "    </tr>\n",
       "    <tr>\n",
       "      <th>std</th>\n",
       "      <td>4.746498e+04</td>\n",
       "      <td>8277.384684</td>\n",
       "      <td>5.562628e+04</td>\n",
       "      <td>7.842431</td>\n",
       "      <td>1.034458</td>\n",
       "      <td>4.996403</td>\n",
       "      <td>11.596461</td>\n",
       "      <td>0.738618</td>\n",
       "    </tr>\n",
       "    <tr>\n",
       "      <th>min</th>\n",
       "      <td>1.000000e+07</td>\n",
       "      <td>500.000000</td>\n",
       "      <td>4.000000e+03</td>\n",
       "      <td>0.000000</td>\n",
       "      <td>0.000000</td>\n",
       "      <td>1.000000</td>\n",
       "      <td>2.000000</td>\n",
       "      <td>1.000000</td>\n",
       "    </tr>\n",
       "    <tr>\n",
       "      <th>25%</th>\n",
       "      <td>1.004096e+07</td>\n",
       "      <td>8000.000000</td>\n",
       "      <td>4.882150e+04</td>\n",
       "      <td>11.370000</td>\n",
       "      <td>0.000000</td>\n",
       "      <td>8.000000</td>\n",
       "      <td>17.000000</td>\n",
       "      <td>2.000000</td>\n",
       "    </tr>\n",
       "    <tr>\n",
       "      <th>50%</th>\n",
       "      <td>1.008207e+07</td>\n",
       "      <td>12025.000000</td>\n",
       "      <td>7.000000e+04</td>\n",
       "      <td>16.840000</td>\n",
       "      <td>0.000000</td>\n",
       "      <td>10.000000</td>\n",
       "      <td>23.000000</td>\n",
       "      <td>2.000000</td>\n",
       "    </tr>\n",
       "    <tr>\n",
       "      <th>75%</th>\n",
       "      <td>1.012320e+07</td>\n",
       "      <td>20000.000000</td>\n",
       "      <td>8.200000e+04</td>\n",
       "      <td>22.770000</td>\n",
       "      <td>1.000000</td>\n",
       "      <td>14.000000</td>\n",
       "      <td>32.000000</td>\n",
       "      <td>3.000000</td>\n",
       "    </tr>\n",
       "    <tr>\n",
       "      <th>max</th>\n",
       "      <td>1.016431e+07</td>\n",
       "      <td>35000.000000</td>\n",
       "      <td>7.500000e+06</td>\n",
       "      <td>39.990000</td>\n",
       "      <td>8.000000</td>\n",
       "      <td>76.000000</td>\n",
       "      <td>156.000000</td>\n",
       "      <td>3.000000</td>\n",
       "    </tr>\n",
       "  </tbody>\n",
       "</table>\n",
       "</div>"
      ],
      "text/plain": [
       "            Loan_ID  Loan_Amount_Requested  Annual_Income  Debt_To_Income  \\\n",
       "count  1.392560e+05          139256.000000   1.392560e+05   139256.000000   \n",
       "mean   1.008210e+07           14339.856451   7.325795e+04       17.204112   \n",
       "std    4.746498e+04            8277.384684   5.562628e+04        7.842431   \n",
       "min    1.000000e+07             500.000000   4.000000e+03        0.000000   \n",
       "25%    1.004096e+07            8000.000000   4.882150e+04       11.370000   \n",
       "50%    1.008207e+07           12025.000000   7.000000e+04       16.840000   \n",
       "75%    1.012320e+07           20000.000000   8.200000e+04       22.770000   \n",
       "max    1.016431e+07           35000.000000   7.500000e+06       39.990000   \n",
       "\n",
       "       Inquiries_Last_6Mo  Number_Open_Accounts  Total_Accounts  Interest_Rate  \n",
       "count       139256.000000         139256.000000   139256.000000  139256.000000  \n",
       "mean             0.781216             11.194527       25.065290       2.158772  \n",
       "std              1.034458              4.996403       11.596461       0.738618  \n",
       "min              0.000000              1.000000        2.000000       1.000000  \n",
       "25%              0.000000              8.000000       17.000000       2.000000  \n",
       "50%              0.000000             10.000000       23.000000       2.000000  \n",
       "75%              1.000000             14.000000       32.000000       3.000000  \n",
       "max              8.000000             76.000000      156.000000       3.000000  "
      ]
     },
     "execution_count": 325,
     "metadata": {},
     "output_type": "execute_result"
    }
   ],
   "source": [
    "df1=df.loc[df['Loan_Grade'].isnull(),:]\n",
    "df2=df.dropna()\n",
    "df2.describe()"
   ]
  },
  {
   "cell_type": "code",
   "execution_count": 339,
   "metadata": {
    "collapsed": false
   },
   "outputs": [
    {
     "data": {
      "text/html": [
       "<div>\n",
       "<table border=\"1\" class=\"dataframe\">\n",
       "  <thead>\n",
       "    <tr style=\"text-align: right;\">\n",
       "      <th></th>\n",
       "      <th>Loan_ID</th>\n",
       "      <th>Loan_Amount_Requested</th>\n",
       "      <th>Annual_Income</th>\n",
       "      <th>Debt_To_Income</th>\n",
       "      <th>Inquiries_Last_6Mo</th>\n",
       "      <th>Number_Open_Accounts</th>\n",
       "      <th>Total_Accounts</th>\n",
       "    </tr>\n",
       "  </thead>\n",
       "  <tbody>\n",
       "    <tr>\n",
       "      <th>count</th>\n",
       "      <td>9.274900e+04</td>\n",
       "      <td>92749.000000</td>\n",
       "      <td>9.274900e+04</td>\n",
       "      <td>92749.000000</td>\n",
       "      <td>92749.000000</td>\n",
       "      <td>92749.000000</td>\n",
       "      <td>92749.000000</td>\n",
       "    </tr>\n",
       "    <tr>\n",
       "      <th>mean</th>\n",
       "      <td>1.021908e+07</td>\n",
       "      <td>14366.417158</td>\n",
       "      <td>7.350843e+04</td>\n",
       "      <td>17.227747</td>\n",
       "      <td>0.790693</td>\n",
       "      <td>11.179463</td>\n",
       "      <td>25.078977</td>\n",
       "    </tr>\n",
       "    <tr>\n",
       "      <th>std</th>\n",
       "      <td>3.164382e+04</td>\n",
       "      <td>8315.119628</td>\n",
       "      <td>5.195235e+04</td>\n",
       "      <td>7.835789</td>\n",
       "      <td>1.042162</td>\n",
       "      <td>4.941177</td>\n",
       "      <td>11.603770</td>\n",
       "    </tr>\n",
       "    <tr>\n",
       "      <th>min</th>\n",
       "      <td>1.016431e+07</td>\n",
       "      <td>500.000000</td>\n",
       "      <td>3.000000e+03</td>\n",
       "      <td>0.000000</td>\n",
       "      <td>0.000000</td>\n",
       "      <td>0.000000</td>\n",
       "      <td>2.000000</td>\n",
       "    </tr>\n",
       "    <tr>\n",
       "      <th>25%</th>\n",
       "      <td>1.019164e+07</td>\n",
       "      <td>8000.000000</td>\n",
       "      <td>4.860000e+04</td>\n",
       "      <td>11.350000</td>\n",
       "      <td>0.000000</td>\n",
       "      <td>8.000000</td>\n",
       "      <td>17.000000</td>\n",
       "    </tr>\n",
       "    <tr>\n",
       "      <th>50%</th>\n",
       "      <td>1.021910e+07</td>\n",
       "      <td>12000.000000</td>\n",
       "      <td>7.000000e+04</td>\n",
       "      <td>16.860000</td>\n",
       "      <td>0.000000</td>\n",
       "      <td>10.000000</td>\n",
       "      <td>24.000000</td>\n",
       "    </tr>\n",
       "    <tr>\n",
       "      <th>75%</th>\n",
       "      <td>1.024646e+07</td>\n",
       "      <td>20000.000000</td>\n",
       "      <td>8.200000e+04</td>\n",
       "      <td>22.770000</td>\n",
       "      <td>1.000000</td>\n",
       "      <td>14.000000</td>\n",
       "      <td>32.000000</td>\n",
       "    </tr>\n",
       "    <tr>\n",
       "      <th>max</th>\n",
       "      <td>1.027385e+07</td>\n",
       "      <td>35000.000000</td>\n",
       "      <td>7.446395e+06</td>\n",
       "      <td>39.990000</td>\n",
       "      <td>8.000000</td>\n",
       "      <td>84.000000</td>\n",
       "      <td>124.000000</td>\n",
       "    </tr>\n",
       "  </tbody>\n",
       "</table>\n",
       "</div>"
      ],
      "text/plain": [
       "            Loan_ID  Loan_Amount_Requested  Annual_Income  Debt_To_Income  \\\n",
       "count  9.274900e+04           92749.000000   9.274900e+04    92749.000000   \n",
       "mean   1.021908e+07           14366.417158   7.350843e+04       17.227747   \n",
       "std    3.164382e+04            8315.119628   5.195235e+04        7.835789   \n",
       "min    1.016431e+07             500.000000   3.000000e+03        0.000000   \n",
       "25%    1.019164e+07            8000.000000   4.860000e+04       11.350000   \n",
       "50%    1.021910e+07           12000.000000   7.000000e+04       16.860000   \n",
       "75%    1.024646e+07           20000.000000   8.200000e+04       22.770000   \n",
       "max    1.027385e+07           35000.000000   7.446395e+06       39.990000   \n",
       "\n",
       "       Inquiries_Last_6Mo  Number_Open_Accounts  Total_Accounts  \n",
       "count        92749.000000          92749.000000    92749.000000  \n",
       "mean             0.790693             11.179463       25.078977  \n",
       "std              1.042162              4.941177       11.603770  \n",
       "min              0.000000              0.000000        2.000000  \n",
       "25%              0.000000              8.000000       17.000000  \n",
       "50%              0.000000             10.000000       24.000000  \n",
       "75%              1.000000             14.000000       32.000000  \n",
       "max              8.000000             84.000000      124.000000  "
      ]
     },
     "execution_count": 339,
     "metadata": {},
     "output_type": "execute_result"
    }
   ],
   "source": [
    "df3=df_test.loc[df_test['Loan_Grade'].isnull(),:]\n",
    "df4=df_test.dropna()\n",
    "df4.describe()"
   ]
  },
  {
   "cell_type": "code",
   "execution_count": 326,
   "metadata": {
    "collapsed": false
   },
   "outputs": [
    {
     "name": "stderr",
     "output_type": "stream",
     "text": [
      "/usr/local/lib/python3.5/dist-packages/ipykernel/__main__.py:8: SettingWithCopyWarning: \n",
      "A value is trying to be set on a copy of a slice from a DataFrame.\n",
      "Try using .loc[row_indexer,col_indexer] = value instead\n",
      "\n",
      "See the caveats in the documentation: http://pandas.pydata.org/pandas-docs/stable/indexing.html#indexing-view-versus-copy\n",
      "/usr/local/lib/python3.5/dist-packages/ipykernel/__main__.py:10: SettingWithCopyWarning: \n",
      "A value is trying to be set on a copy of a slice from a DataFrame.\n",
      "Try using .loc[row_indexer,col_indexer] = value instead\n",
      "\n",
      "See the caveats in the documentation: http://pandas.pydata.org/pandas-docs/stable/indexing.html#indexing-view-versus-copy\n"
     ]
    }
   ],
   "source": [
    "from sklearn import preprocessing\n",
    "\n",
    "var_mod_train = ['Loan_Grade','Length_Employed','Home_Owner','Income_Verified','Purpose_Of_Loan','Area_Type','Gender']\n",
    "var_mod_test= ['Length_Employed','Home_Owner','Income_Verified','Purpose_Of_Loan','Area_Type','Gender']\n",
    "le = preprocessing.LabelEncoder()\n",
    "lx=preprocessing.LabelEncoder()\n",
    "for i in var_mod_train:\n",
    "    df2[i] = le.fit_transform(df2[i].astype('str'))\n",
    "for j in var_mod_test:\n",
    "    df1[j] = lx.fit_transform(df1[j].astype('str'))"
   ]
  },
  {
   "cell_type": "code",
   "execution_count": 340,
   "metadata": {
    "collapsed": false
   },
   "outputs": [
    {
     "name": "stderr",
     "output_type": "stream",
     "text": [
      "/usr/local/lib/python3.5/dist-packages/ipykernel/__main__.py:7: SettingWithCopyWarning: \n",
      "A value is trying to be set on a copy of a slice from a DataFrame.\n",
      "Try using .loc[row_indexer,col_indexer] = value instead\n",
      "\n",
      "See the caveats in the documentation: http://pandas.pydata.org/pandas-docs/stable/indexing.html#indexing-view-versus-copy\n",
      "/usr/local/lib/python3.5/dist-packages/ipykernel/__main__.py:9: SettingWithCopyWarning: \n",
      "A value is trying to be set on a copy of a slice from a DataFrame.\n",
      "Try using .loc[row_indexer,col_indexer] = value instead\n",
      "\n",
      "See the caveats in the documentation: http://pandas.pydata.org/pandas-docs/stable/indexing.html#indexing-view-versus-copy\n"
     ]
    }
   ],
   "source": [
    "\n",
    "var_train = ['Loan_Grade','Length_Employed','Home_Owner','Income_Verified','Purpose_Of_Loan','Area_Type','Gender']\n",
    "var_test= ['Length_Employed','Home_Owner','Income_Verified','Purpose_Of_Loan','Area_Type','Gender']\n",
    "te = preprocessing.LabelEncoder()\n",
    "tx=preprocessing.LabelEncoder()\n",
    "for i in var_train:\n",
    "    df4[i] = le.fit_transform(df4[i].astype('str'))\n",
    "for j in var_test:\n",
    "    df3[j] = lx.fit_transform(df3[j].astype('str'))"
   ]
  },
  {
   "cell_type": "code",
   "execution_count": 327,
   "metadata": {
    "collapsed": false
   },
   "outputs": [
    {
     "data": {
      "text/plain": [
       "Loan_ID                    0\n",
       "Loan_Amount_Requested      0\n",
       "Loan_Grade                 0\n",
       "Length_Employed            0\n",
       "Home_Owner                 0\n",
       "Annual_Income              0\n",
       "Income_Verified            0\n",
       "Purpose_Of_Loan            0\n",
       "Debt_To_Income             0\n",
       "Inquiries_Last_6Mo         0\n",
       "Months_Since_Deliquency    0\n",
       "Number_Open_Accounts       0\n",
       "Total_Accounts             0\n",
       "Area_Type                  0\n",
       "Gender                     0\n",
       "Interest_Rate              0\n",
       "dtype: int64"
      ]
     },
     "execution_count": 327,
     "metadata": {},
     "output_type": "execute_result"
    }
   ],
   "source": [
    "df2.apply(lambda x: sum(x.isnull()),axis=0)"
   ]
  },
  {
   "cell_type": "code",
   "execution_count": 341,
   "metadata": {
    "collapsed": false
   },
   "outputs": [
    {
     "data": {
      "text/plain": [
       "Loan_ID                    0\n",
       "Loan_Amount_Requested      0\n",
       "Loan_Grade                 0\n",
       "Length_Employed            0\n",
       "Home_Owner                 0\n",
       "Annual_Income              0\n",
       "Income_Verified            0\n",
       "Purpose_Of_Loan            0\n",
       "Debt_To_Income             0\n",
       "Inquiries_Last_6Mo         0\n",
       "Months_Since_Deliquency    0\n",
       "Number_Open_Accounts       0\n",
       "Total_Accounts             0\n",
       "Area_Type                  0\n",
       "Gender                     0\n",
       "dtype: int64"
      ]
     },
     "execution_count": 341,
     "metadata": {},
     "output_type": "execute_result"
    }
   ],
   "source": [
    "df4.apply(lambda x: sum(x.isnull()),axis=0)"
   ]
  },
  {
   "cell_type": "code",
   "execution_count": 342,
   "metadata": {
    "collapsed": false
   },
   "outputs": [],
   "source": [
    "x_train= df2.drop(['Loan_Grade','Loan_ID','Interest_Rate'], axis=1)\n",
    "\n",
    "y_train=df2['Loan_Grade']\n",
    "\n",
    "x_test=df1.drop(['Loan_ID','Interest_Rate','Loan_Grade'],axis=1)"
   ]
  },
  {
   "cell_type": "code",
   "execution_count": 343,
   "metadata": {
    "collapsed": true
   },
   "outputs": [],
   "source": [
    "a_train= df4.drop(['Loan_Grade','Loan_ID'], axis=1)\n",
    "\n",
    "b_train=df4['Loan_Grade']\n",
    "\n",
    "a_test=df3.drop(['Loan_ID','Loan_Grade'],axis=1)"
   ]
  },
  {
   "cell_type": "code",
   "execution_count": 329,
   "metadata": {
    "collapsed": false
   },
   "outputs": [
    {
     "data": {
      "text/plain": [
       "((139256, 13), (139256,), (25053, 13))"
      ]
     },
     "execution_count": 329,
     "metadata": {},
     "output_type": "execute_result"
    }
   ],
   "source": [
    "x_train.shape, y_train.shape, x_test.shape"
   ]
  },
  {
   "cell_type": "code",
   "execution_count": 344,
   "metadata": {
    "collapsed": false
   },
   "outputs": [
    {
     "data": {
      "text/plain": [
       "((92749, 13), (92749,), (16792, 13))"
      ]
     },
     "execution_count": 344,
     "metadata": {},
     "output_type": "execute_result"
    }
   ],
   "source": [
    "a_train.shape, b_train.shape, a_test.shape"
   ]
  },
  {
   "cell_type": "code",
   "execution_count": 330,
   "metadata": {
    "collapsed": false
   },
   "outputs": [
    {
     "data": {
      "text/plain": [
       "Index(['Loan_Amount_Requested', 'Length_Employed', 'Home_Owner',\n",
       "       'Annual_Income', 'Income_Verified', 'Purpose_Of_Loan', 'Debt_To_Income',\n",
       "       'Inquiries_Last_6Mo', 'Months_Since_Deliquency', 'Number_Open_Accounts',\n",
       "       'Total_Accounts', 'Area_Type', 'Gender'],\n",
       "      dtype='object')"
      ]
     },
     "execution_count": 330,
     "metadata": {},
     "output_type": "execute_result"
    }
   ],
   "source": [
    "x_train.columns"
   ]
  },
  {
   "cell_type": "code",
   "execution_count": 331,
   "metadata": {
    "collapsed": false
   },
   "outputs": [
    {
     "data": {
      "text/plain": [
       "Index(['Loan_Amount_Requested', 'Length_Employed', 'Home_Owner',\n",
       "       'Annual_Income', 'Income_Verified', 'Purpose_Of_Loan', 'Debt_To_Income',\n",
       "       'Inquiries_Last_6Mo', 'Months_Since_Deliquency', 'Number_Open_Accounts',\n",
       "       'Total_Accounts', 'Area_Type', 'Gender'],\n",
       "      dtype='object')"
      ]
     },
     "execution_count": 331,
     "metadata": {},
     "output_type": "execute_result"
    }
   ],
   "source": [
    "x_test.columns"
   ]
  },
  {
   "cell_type": "code",
   "execution_count": 332,
   "metadata": {
    "collapsed": false
   },
   "outputs": [
    {
     "data": {
      "text/plain": [
       "1.0"
      ]
     },
     "execution_count": 332,
     "metadata": {},
     "output_type": "execute_result"
    }
   ],
   "source": [
    "random_forest = RandomForestClassifier(n_estimators=100)\n",
    "\n",
    "random_forest.fit(x_train, y_train)\n",
    "\n",
    "pred = random_forest.predict(x_test)\n",
    "\n",
    "random_forest.score(x_train, y_train)"
   ]
  },
  {
   "cell_type": "code",
   "execution_count": 347,
   "metadata": {
    "collapsed": false
   },
   "outputs": [
    {
     "data": {
      "text/plain": [
       "1.0"
      ]
     },
     "execution_count": 347,
     "metadata": {},
     "output_type": "execute_result"
    }
   ],
   "source": [
    "random_forestx = RandomForestClassifier(n_estimators=100)\n",
    "\n",
    "random_forestx.fit(a_train, b_train)\n",
    "\n",
    "predx = random_forestx.predict(a_test)\n",
    "\n",
    "random_forestx.score(a_train, b_train)"
   ]
  },
  {
   "cell_type": "code",
   "execution_count": 333,
   "metadata": {
    "collapsed": false
   },
   "outputs": [
    {
     "name": "stderr",
     "output_type": "stream",
     "text": [
      "/usr/local/lib/python3.5/dist-packages/ipykernel/__main__.py:1: SettingWithCopyWarning: \n",
      "A value is trying to be set on a copy of a slice from a DataFrame.\n",
      "Try using .loc[row_indexer,col_indexer] = value instead\n",
      "\n",
      "See the caveats in the documentation: http://pandas.pydata.org/pandas-docs/stable/indexing.html#indexing-view-versus-copy\n",
      "  if __name__ == '__main__':\n"
     ]
    }
   ],
   "source": [
    "df1['Loan_Grade']=pred"
   ]
  },
  {
   "cell_type": "code",
   "execution_count": 348,
   "metadata": {
    "collapsed": false
   },
   "outputs": [
    {
     "name": "stderr",
     "output_type": "stream",
     "text": [
      "/usr/local/lib/python3.5/dist-packages/ipykernel/__main__.py:1: SettingWithCopyWarning: \n",
      "A value is trying to be set on a copy of a slice from a DataFrame.\n",
      "Try using .loc[row_indexer,col_indexer] = value instead\n",
      "\n",
      "See the caveats in the documentation: http://pandas.pydata.org/pandas-docs/stable/indexing.html#indexing-view-versus-copy\n",
      "  if __name__ == '__main__':\n"
     ]
    }
   ],
   "source": [
    "df3['Loan_Grade']=predx"
   ]
  },
  {
   "cell_type": "code",
   "execution_count": 334,
   "metadata": {
    "collapsed": false
   },
   "outputs": [
    {
     "data": {
      "text/html": [
       "<div>\n",
       "<table border=\"1\" class=\"dataframe\">\n",
       "  <thead>\n",
       "    <tr style=\"text-align: right;\">\n",
       "      <th></th>\n",
       "      <th>Loan_ID</th>\n",
       "      <th>Loan_Amount_Requested</th>\n",
       "      <th>Loan_Grade</th>\n",
       "      <th>Length_Employed</th>\n",
       "      <th>Home_Owner</th>\n",
       "      <th>Annual_Income</th>\n",
       "      <th>Income_Verified</th>\n",
       "      <th>Purpose_Of_Loan</th>\n",
       "      <th>Debt_To_Income</th>\n",
       "      <th>Inquiries_Last_6Mo</th>\n",
       "      <th>Months_Since_Deliquency</th>\n",
       "      <th>Number_Open_Accounts</th>\n",
       "      <th>Total_Accounts</th>\n",
       "      <th>Area_Type</th>\n",
       "      <th>Gender</th>\n",
       "      <th>Interest_Rate</th>\n",
       "    </tr>\n",
       "  </thead>\n",
       "  <tbody>\n",
       "    <tr>\n",
       "      <th>0</th>\n",
       "      <td>10000001</td>\n",
       "      <td>7000</td>\n",
       "      <td>0</td>\n",
       "      <td>11</td>\n",
       "      <td>4</td>\n",
       "      <td>68000.00000</td>\n",
       "      <td>2</td>\n",
       "      <td>0</td>\n",
       "      <td>18.37</td>\n",
       "      <td>0</td>\n",
       "      <td>0</td>\n",
       "      <td>9</td>\n",
       "      <td>14</td>\n",
       "      <td>1</td>\n",
       "      <td>0</td>\n",
       "      <td>1</td>\n",
       "    </tr>\n",
       "    <tr>\n",
       "      <th>1</th>\n",
       "      <td>10000002</td>\n",
       "      <td>30000</td>\n",
       "      <td>0</td>\n",
       "      <td>5</td>\n",
       "      <td>0</td>\n",
       "      <td>73331.15943</td>\n",
       "      <td>0</td>\n",
       "      <td>2</td>\n",
       "      <td>14.93</td>\n",
       "      <td>0</td>\n",
       "      <td>17</td>\n",
       "      <td>12</td>\n",
       "      <td>24</td>\n",
       "      <td>0</td>\n",
       "      <td>0</td>\n",
       "      <td>3</td>\n",
       "    </tr>\n",
       "    <tr>\n",
       "      <th>2</th>\n",
       "      <td>10000003</td>\n",
       "      <td>24725</td>\n",
       "      <td>3</td>\n",
       "      <td>8</td>\n",
       "      <td>0</td>\n",
       "      <td>75566.40000</td>\n",
       "      <td>1</td>\n",
       "      <td>2</td>\n",
       "      <td>15.88</td>\n",
       "      <td>0</td>\n",
       "      <td>0</td>\n",
       "      <td>12</td>\n",
       "      <td>16</td>\n",
       "      <td>1</td>\n",
       "      <td>1</td>\n",
       "      <td>3</td>\n",
       "    </tr>\n",
       "    <tr>\n",
       "      <th>3</th>\n",
       "      <td>10000004</td>\n",
       "      <td>16000</td>\n",
       "      <td>3</td>\n",
       "      <td>11</td>\n",
       "      <td>0</td>\n",
       "      <td>56160.00000</td>\n",
       "      <td>1</td>\n",
       "      <td>2</td>\n",
       "      <td>14.34</td>\n",
       "      <td>3</td>\n",
       "      <td>0</td>\n",
       "      <td>16</td>\n",
       "      <td>22</td>\n",
       "      <td>0</td>\n",
       "      <td>1</td>\n",
       "      <td>3</td>\n",
       "    </tr>\n",
       "    <tr>\n",
       "      <th>4</th>\n",
       "      <td>10000005</td>\n",
       "      <td>17000</td>\n",
       "      <td>0</td>\n",
       "      <td>9</td>\n",
       "      <td>3</td>\n",
       "      <td>96000.00000</td>\n",
       "      <td>1</td>\n",
       "      <td>2</td>\n",
       "      <td>22.17</td>\n",
       "      <td>1</td>\n",
       "      <td>0</td>\n",
       "      <td>19</td>\n",
       "      <td>30</td>\n",
       "      <td>1</td>\n",
       "      <td>0</td>\n",
       "      <td>1</td>\n",
       "    </tr>\n",
       "  </tbody>\n",
       "</table>\n",
       "</div>"
      ],
      "text/plain": [
       "    Loan_ID  Loan_Amount_Requested  Loan_Grade  Length_Employed  Home_Owner  \\\n",
       "0  10000001                   7000           0               11           4   \n",
       "1  10000002                  30000           0                5           0   \n",
       "2  10000003                  24725           3                8           0   \n",
       "3  10000004                  16000           3               11           0   \n",
       "4  10000005                  17000           0                9           3   \n",
       "\n",
       "   Annual_Income  Income_Verified  Purpose_Of_Loan  Debt_To_Income  \\\n",
       "0    68000.00000                2                0           18.37   \n",
       "1    73331.15943                0                2           14.93   \n",
       "2    75566.40000                1                2           15.88   \n",
       "3    56160.00000                1                2           14.34   \n",
       "4    96000.00000                1                2           22.17   \n",
       "\n",
       "   Inquiries_Last_6Mo  Months_Since_Deliquency  Number_Open_Accounts  \\\n",
       "0                   0                        0                     9   \n",
       "1                   0                       17                    12   \n",
       "2                   0                        0                    12   \n",
       "3                   3                        0                    16   \n",
       "4                   1                        0                    19   \n",
       "\n",
       "   Total_Accounts  Area_Type  Gender  Interest_Rate  \n",
       "0              14          1       0              1  \n",
       "1              24          0       0              3  \n",
       "2              16          1       1              3  \n",
       "3              22          0       1              3  \n",
       "4              30          1       0              1  "
      ]
     },
     "execution_count": 334,
     "metadata": {},
     "output_type": "execute_result"
    }
   ],
   "source": [
    "train=pd.read_csv(\"/resources/data/Interest Rate Prediction/train1.csv\")\n",
    "train.head()"
   ]
  },
  {
   "cell_type": "code",
   "execution_count": 353,
   "metadata": {
    "collapsed": false
   },
   "outputs": [
    {
     "data": {
      "text/html": [
       "<div>\n",
       "<table border=\"1\" class=\"dataframe\">\n",
       "  <thead>\n",
       "    <tr style=\"text-align: right;\">\n",
       "      <th></th>\n",
       "      <th>Loan_ID</th>\n",
       "      <th>Loan_Amount_Requested</th>\n",
       "      <th>Loan_Grade</th>\n",
       "      <th>Length_Employed</th>\n",
       "      <th>Home_Owner</th>\n",
       "      <th>Annual_Income</th>\n",
       "      <th>Income_Verified</th>\n",
       "      <th>Purpose_Of_Loan</th>\n",
       "      <th>Debt_To_Income</th>\n",
       "      <th>Inquiries_Last_6Mo</th>\n",
       "      <th>Months_Since_Deliquency</th>\n",
       "      <th>Number_Open_Accounts</th>\n",
       "      <th>Total_Accounts</th>\n",
       "      <th>Area_Type</th>\n",
       "      <th>Gender</th>\n",
       "    </tr>\n",
       "  </thead>\n",
       "  <tbody>\n",
       "    <tr>\n",
       "      <th>0</th>\n",
       "      <td>10164310</td>\n",
       "      <td>27500</td>\n",
       "      <td>1</td>\n",
       "      <td>1</td>\n",
       "      <td>0</td>\n",
       "      <td>129000.0</td>\n",
       "      <td>0</td>\n",
       "      <td>2</td>\n",
       "      <td>12.87</td>\n",
       "      <td>0</td>\n",
       "      <td>68</td>\n",
       "      <td>10</td>\n",
       "      <td>37</td>\n",
       "      <td>1</td>\n",
       "      <td>1</td>\n",
       "    </tr>\n",
       "    <tr>\n",
       "      <th>1</th>\n",
       "      <td>10164311</td>\n",
       "      <td>26000</td>\n",
       "      <td>0</td>\n",
       "      <td>1</td>\n",
       "      <td>0</td>\n",
       "      <td>110000.0</td>\n",
       "      <td>2</td>\n",
       "      <td>1</td>\n",
       "      <td>11.37</td>\n",
       "      <td>0</td>\n",
       "      <td>0</td>\n",
       "      <td>6</td>\n",
       "      <td>23</td>\n",
       "      <td>1</td>\n",
       "      <td>1</td>\n",
       "    </tr>\n",
       "    <tr>\n",
       "      <th>2</th>\n",
       "      <td>10164312</td>\n",
       "      <td>6075</td>\n",
       "      <td>1</td>\n",
       "      <td>11</td>\n",
       "      <td>3</td>\n",
       "      <td>75000.0</td>\n",
       "      <td>0</td>\n",
       "      <td>2</td>\n",
       "      <td>6.83</td>\n",
       "      <td>2</td>\n",
       "      <td>0</td>\n",
       "      <td>5</td>\n",
       "      <td>20</td>\n",
       "      <td>0</td>\n",
       "      <td>1</td>\n",
       "    </tr>\n",
       "    <tr>\n",
       "      <th>3</th>\n",
       "      <td>10164313</td>\n",
       "      <td>12000</td>\n",
       "      <td>3</td>\n",
       "      <td>1</td>\n",
       "      <td>0</td>\n",
       "      <td>73000.0</td>\n",
       "      <td>1</td>\n",
       "      <td>2</td>\n",
       "      <td>7.76</td>\n",
       "      <td>0</td>\n",
       "      <td>0</td>\n",
       "      <td>6</td>\n",
       "      <td>8</td>\n",
       "      <td>2</td>\n",
       "      <td>1</td>\n",
       "    </tr>\n",
       "    <tr>\n",
       "      <th>4</th>\n",
       "      <td>10164314</td>\n",
       "      <td>35000</td>\n",
       "      <td>2</td>\n",
       "      <td>11</td>\n",
       "      <td>0</td>\n",
       "      <td>156000.0</td>\n",
       "      <td>2</td>\n",
       "      <td>2</td>\n",
       "      <td>9.62</td>\n",
       "      <td>0</td>\n",
       "      <td>26</td>\n",
       "      <td>9</td>\n",
       "      <td>21</td>\n",
       "      <td>2</td>\n",
       "      <td>1</td>\n",
       "    </tr>\n",
       "  </tbody>\n",
       "</table>\n",
       "</div>"
      ],
      "text/plain": [
       "    Loan_ID  Loan_Amount_Requested  Loan_Grade  Length_Employed  Home_Owner  \\\n",
       "0  10164310                  27500           1                1           0   \n",
       "1  10164311                  26000           0                1           0   \n",
       "2  10164312                   6075           1               11           3   \n",
       "3  10164313                  12000           3                1           0   \n",
       "4  10164314                  35000           2               11           0   \n",
       "\n",
       "   Annual_Income  Income_Verified  Purpose_Of_Loan  Debt_To_Income  \\\n",
       "0       129000.0                0                2           12.87   \n",
       "1       110000.0                2                1           11.37   \n",
       "2        75000.0                0                2            6.83   \n",
       "3        73000.0                1                2            7.76   \n",
       "4       156000.0                2                2            9.62   \n",
       "\n",
       "   Inquiries_Last_6Mo  Months_Since_Deliquency  Number_Open_Accounts  \\\n",
       "0                   0                       68                    10   \n",
       "1                   0                        0                     6   \n",
       "2                   2                        0                     5   \n",
       "3                   0                        0                     6   \n",
       "4                   0                       26                     9   \n",
       "\n",
       "   Total_Accounts  Area_Type  Gender  \n",
       "0              37          1       1  \n",
       "1              23          1       1  \n",
       "2              20          0       1  \n",
       "3               8          2       1  \n",
       "4              21          2       1  "
      ]
     },
     "execution_count": 353,
     "metadata": {},
     "output_type": "execute_result"
    }
   ],
   "source": [
    "test=pd.read_csv(\"/resources/data/Interest Rate Prediction/test1.csv\")\n",
    "test.head()"
   ]
  },
  {
   "cell_type": "code",
   "execution_count": 354,
   "metadata": {
    "collapsed": true
   },
   "outputs": [],
   "source": [
    "fx_train= train.drop(['Loan_ID','Interest_Rate'], axis=1)\n",
    "\n",
    "fy_train=train['Interest_Rate']\n",
    "\n",
    "fx_test=test.drop(['Loan_ID'],axis=1)"
   ]
  },
  {
   "cell_type": "code",
   "execution_count": 355,
   "metadata": {
    "collapsed": false
   },
   "outputs": [
    {
     "data": {
      "text/plain": [
       "((164309, 14), (164309,), (109541, 14))"
      ]
     },
     "execution_count": 355,
     "metadata": {},
     "output_type": "execute_result"
    }
   ],
   "source": [
    "fx_train.shape, fy_train.shape, fx_test.shape"
   ]
  },
  {
   "cell_type": "code",
   "execution_count": 357,
   "metadata": {
    "collapsed": false
   },
   "outputs": [
    {
     "data": {
      "text/plain": [
       "1.0"
      ]
     },
     "execution_count": 357,
     "metadata": {},
     "output_type": "execute_result"
    }
   ],
   "source": [
    "forest = RandomForestClassifier(n_estimators=100)\n",
    "\n",
    "forest.fit(fx_train, fy_train)\n",
    "\n",
    "pre = forest.predict(fx_test)\n",
    "\n",
    "forest.score(fx_train, fy_train)"
   ]
  },
  {
   "cell_type": "code",
   "execution_count": null,
   "metadata": {
    "collapsed": true
   },
   "outputs": [],
   "source": [
    "submission = pd.DataFrame({\n",
    "        \"Loan_ID\": test[\"Loan_ID\"],\n",
    "        \"Interest_Rate\": pre\n",
    "    })\n",
    "submission.to_csv('/resources/data/Interest Rate Prediction/Sample_Submission.csv', index=False)"
   ]
  }
 ],
 "metadata": {
  "kernelspec": {
   "display_name": "Python 3",
   "language": "python",
   "name": "python3"
  },
  "language_info": {
   "codemirror_mode": {
    "name": "ipython",
    "version": 3
   },
   "file_extension": ".py",
   "mimetype": "text/x-python",
   "name": "python",
   "nbconvert_exporter": "python",
   "pygments_lexer": "ipython3",
   "version": "3.5.2"
  },
  "widgets": {
   "state": {},
   "version": "1.1.2"
  }
 },
 "nbformat": 4,
 "nbformat_minor": 0
}
